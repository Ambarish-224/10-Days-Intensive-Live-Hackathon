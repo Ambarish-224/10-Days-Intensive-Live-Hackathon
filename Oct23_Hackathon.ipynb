{
  "nbformat": 4,
  "nbformat_minor": 0,
  "metadata": {
    "colab": {
      "provenance": [],
      "authorship_tag": "ABX9TyN62byrCzEjzHh0LR4jLsgT",
      "include_colab_link": true
    },
    "kernelspec": {
      "name": "python3",
      "display_name": "Python 3"
    },
    "language_info": {
      "name": "python"
    }
  },
  "cells": [
    {
      "cell_type": "markdown",
      "metadata": {
        "id": "view-in-github",
        "colab_type": "text"
      },
      "source": [
        "<a href=\"https://colab.research.google.com/github/Ambarish-224/10-Days-Intensive-Live-Hackathon/blob/main/Oct23_Hackathon.ipynb\" target=\"_parent\"><img src=\"https://colab.research.google.com/assets/colab-badge.svg\" alt=\"Open In Colab\"/></a>"
      ]
    },
    {
      "cell_type": "code",
      "execution_count": null,
      "metadata": {
        "id": "gekS__C9ZIiz"
      },
      "outputs": [],
      "source": []
    },
    {
      "cell_type": "markdown",
      "source": [
        "# Day 1 -  Python Basics"
      ],
      "metadata": {
        "id": "SjsA-3RNZj0c"
      }
    },
    {
      "cell_type": "markdown",
      "source": [
        "##### Arithmetic Operation"
      ],
      "metadata": {
        "id": "XIygz9DrZ9sQ"
      }
    },
    {
      "cell_type": "code",
      "source": [
        "## Initializing two values\n",
        "value_1 = 5\n",
        "value_2 = 6"
      ],
      "metadata": {
        "id": "eQ1_3P14aDHb"
      },
      "execution_count": 2,
      "outputs": []
    },
    {
      "cell_type": "code",
      "source": [
        "## add 2 values\n",
        "added_value = value_1 + value_2\n",
        "\n",
        "## Multiply 2 value\n",
        "multiplied_value = value_1 * value_2\n",
        "\n",
        "## print all value\n",
        "print(\"Addition of 2 Number: \", added_value)\n",
        "print(\"Multiply of 2 Number: \", multiplied_value)\n"
      ],
      "metadata": {
        "colab": {
          "base_uri": "https://localhost:8080/"
        },
        "id": "B8MYWLYXbNia",
        "outputId": "492e310f-05f0-47e5-f1c4-748be5986cfd"
      },
      "execution_count": 3,
      "outputs": [
        {
          "output_type": "stream",
          "name": "stdout",
          "text": [
            "Addition of 2 Number:  11\n",
            "Multiply of 2 Number:  30\n"
          ]
        }
      ]
    },
    {
      "cell_type": "markdown",
      "source": [
        "# IF Else Conditionn"
      ],
      "metadata": {
        "id": "Owf4cEDzcrE0"
      }
    },
    {
      "cell_type": "code",
      "source": [
        "## Initializing another variable\n",
        "value_3 = 10"
      ],
      "metadata": {
        "id": "Uv9Cu6b0cEOM"
      },
      "execution_count": 4,
      "outputs": []
    },
    {
      "cell_type": "code",
      "source": [
        "if value_1<value_2:\n",
        "  print(\"Value 1 is less than Value 2\")\n",
        "else:\n",
        "    print(\"Value 1 is not less than Value 2\")"
      ],
      "metadata": {
        "colab": {
          "base_uri": "https://localhost:8080/"
        },
        "id": "DkT3OMWfc7PI",
        "outputId": "66c5af49-e0a5-45e7-c06f-46ccf4f29572"
      },
      "execution_count": 6,
      "outputs": [
        {
          "output_type": "stream",
          "name": "stdout",
          "text": [
            "Value 1 is less than Value 2\n"
          ]
        }
      ]
    },
    {
      "cell_type": "code",
      "source": [
        "## IF-Else Condition\n",
        "\n",
        "if value_1>value_2:\n",
        "  print(\"Value 1 is less than Value 2\")\n",
        "elif value_3> value_2:\n",
        "  print(\"Value 3 is less than value 2\")\n",
        "else:\n",
        "    print(\"Value 1 is not less than Value 2\")"
      ],
      "metadata": {
        "colab": {
          "base_uri": "https://localhost:8080/"
        },
        "id": "iBSaJTQvdVoU",
        "outputId": "3601ec3c-f571-447c-a54e-e97ec2525a8a"
      },
      "execution_count": 7,
      "outputs": [
        {
          "output_type": "stream",
          "name": "stdout",
          "text": [
            "Value 3 is less than value 2\n"
          ]
        }
      ]
    },
    {
      "cell_type": "code",
      "source": [
        "## Nested If\n",
        "\n",
        "if value_1>value_2:\n",
        "  print(\"Value 1 is less than Value 2\")\n",
        "elif value_3> value_2:\n",
        "  print(\"Value 3 is less than value 2\")\n",
        "  if value_3 > value_1:\n",
        "    print(\"value_3 is  less than value 1\")\n",
        "  else:\n",
        "    print(\"value 3 is greater than value 1\")\n",
        "\n",
        "else:\n",
        "    print(\"Value 1 is not less than Value 2\")"
      ],
      "metadata": {
        "colab": {
          "base_uri": "https://localhost:8080/"
        },
        "id": "Puxld4PDd4KW",
        "outputId": "04c7f8ed-e5c9-4277-a2ed-a6f7846fbe1f"
      },
      "execution_count": 8,
      "outputs": [
        {
          "output_type": "stream",
          "name": "stdout",
          "text": [
            "Value 3 is less than value 2\n",
            "value_3 is  less than value 1\n"
          ]
        }
      ]
    },
    {
      "cell_type": "markdown",
      "source": [
        "# While Loop"
      ],
      "metadata": {
        "id": "J7mOx2GeffGp"
      }
    },
    {
      "cell_type": "code",
      "source": [
        "value_i = 0\n",
        "while value_i <=10:\n",
        "  print(value_i)\n",
        "  value_i = value_i+1"
      ],
      "metadata": {
        "colab": {
          "base_uri": "https://localhost:8080/"
        },
        "id": "5xUnMVOoetxY",
        "outputId": "9ac5ad60-42f1-46ff-d6f6-3c516a67ca6f"
      },
      "execution_count": 9,
      "outputs": [
        {
          "output_type": "stream",
          "name": "stdout",
          "text": [
            "0\n",
            "1\n",
            "2\n",
            "3\n",
            "4\n",
            "5\n",
            "6\n",
            "7\n",
            "8\n",
            "9\n",
            "10\n"
          ]
        }
      ]
    },
    {
      "cell_type": "markdown",
      "source": [
        "# For Loop & Range"
      ],
      "metadata": {
        "id": "-kJhL9WMg1Lb"
      }
    },
    {
      "cell_type": "code",
      "source": [
        "for value_i in range (1,9):\n",
        "  print(value_i)"
      ],
      "metadata": {
        "colab": {
          "base_uri": "https://localhost:8080/"
        },
        "id": "908t03qpf94I",
        "outputId": "210e8b7a-b792-4d10-b1af-611001051616"
      },
      "execution_count": 10,
      "outputs": [
        {
          "output_type": "stream",
          "name": "stdout",
          "text": [
            "1\n",
            "2\n",
            "3\n",
            "4\n",
            "5\n",
            "6\n",
            "7\n",
            "8\n"
          ]
        }
      ]
    },
    {
      "cell_type": "code",
      "source": [
        "for value_i in range (50,56):\n",
        "  print(value_i)"
      ],
      "metadata": {
        "colab": {
          "base_uri": "https://localhost:8080/"
        },
        "id": "tLy3PFgchCfo",
        "outputId": "2398af9d-3b2f-4362-83fa-985e9e371cf1"
      },
      "execution_count": 11,
      "outputs": [
        {
          "output_type": "stream",
          "name": "stdout",
          "text": [
            "50\n",
            "51\n",
            "52\n",
            "53\n",
            "54\n",
            "55\n"
          ]
        }
      ]
    },
    {
      "cell_type": "code",
      "source": [
        "## Increment Value\n",
        "for value_i in range (1,9,2):\n",
        "  print(value_i)\n",
        "\n"
      ],
      "metadata": {
        "colab": {
          "base_uri": "https://localhost:8080/"
        },
        "id": "Fc9CFQF8hRKR",
        "outputId": "308a47db-0ac7-45eb-aa90-83e5d5b37d40"
      },
      "execution_count": 12,
      "outputs": [
        {
          "output_type": "stream",
          "name": "stdout",
          "text": [
            "1\n",
            "3\n",
            "5\n",
            "7\n"
          ]
        }
      ]
    },
    {
      "cell_type": "code",
      "source": [
        "## Decrement Value\n",
        "for value_i in range (10,1,-2):\n",
        "  print(value_i)\n",
        "\n"
      ],
      "metadata": {
        "colab": {
          "base_uri": "https://localhost:8080/"
        },
        "id": "nxuRr76ThctV",
        "outputId": "6edc3d6c-4c0a-43e0-d042-3ac8669f45a7"
      },
      "execution_count": 14,
      "outputs": [
        {
          "output_type": "stream",
          "name": "stdout",
          "text": [
            "10\n",
            "8\n",
            "6\n",
            "4\n",
            "2\n"
          ]
        }
      ]
    },
    {
      "cell_type": "code",
      "source": [
        "'''\n",
        " Calculate the Factorial? Write a python function to calculate Factorial of\n",
        " any given number 'n'. For Ex: 5! = 5*4*3*2*1\n",
        "'''\n",
        "\n",
        "def factorial(n):\n",
        "    result = 1\n",
        "    for i in range(1, n + 1):\n",
        "        result *= i\n",
        "    return result\n",
        "\n",
        "number = int(input(\"Enter a number: \"))\n",
        "result = factorial(number)\n",
        "print(f\"The factorial of {number} is {result}\")\n"
      ],
      "metadata": {
        "colab": {
          "base_uri": "https://localhost:8080/"
        },
        "id": "kFH6zs87hXxa",
        "outputId": "90084664-d84f-4490-8885-f24455495ca7"
      },
      "execution_count": 17,
      "outputs": [
        {
          "output_type": "stream",
          "name": "stdout",
          "text": [
            "Enter a number: 5\n",
            "The factorial of 5 is 120\n"
          ]
        }
      ]
    },
    {
      "cell_type": "code",
      "source": [],
      "metadata": {
        "id": "fTPuUb27jrWk"
      },
      "execution_count": null,
      "outputs": []
    }
  ]
}